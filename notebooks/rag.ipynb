{
 "cells": [
  {
   "cell_type": "markdown",
   "id": "eaf31fdd",
   "metadata": {},
   "source": [
    "Test to chunk and make embeddings"
   ]
  },
  {
   "cell_type": "code",
   "execution_count": 3,
   "id": "5e50a66e",
   "metadata": {},
   "outputs": [],
   "source": [
    "import pandas as pd"
   ]
  },
  {
   "cell_type": "code",
   "execution_count": 3,
   "id": "45b00c0d",
   "metadata": {},
   "outputs": [
    {
     "name": "stdout",
     "output_type": "stream",
     "text": [
      "Name          0\n",
      "Region        0\n",
      "SumUp         0\n",
      "Biography     0\n",
      "Story        31\n",
      "dtype: int64\n"
     ]
    },
    {
     "data": {
      "text/html": [
       "<div>\n",
       "<style scoped>\n",
       "    .dataframe tbody tr th:only-of-type {\n",
       "        vertical-align: middle;\n",
       "    }\n",
       "\n",
       "    .dataframe tbody tr th {\n",
       "        vertical-align: top;\n",
       "    }\n",
       "\n",
       "    .dataframe thead th {\n",
       "        text-align: right;\n",
       "    }\n",
       "</style>\n",
       "<table border=\"1\" class=\"dataframe\">\n",
       "  <thead>\n",
       "    <tr style=\"text-align: right;\">\n",
       "      <th></th>\n",
       "      <th>Name</th>\n",
       "      <th>Region</th>\n",
       "      <th>SumUp</th>\n",
       "      <th>Biography</th>\n",
       "      <th>Story</th>\n",
       "    </tr>\n",
       "  </thead>\n",
       "  <tbody>\n",
       "    <tr>\n",
       "      <th>0</th>\n",
       "      <td>AATROX</td>\n",
       "      <td>RUNETERRA</td>\n",
       "      <td>Autrefois, Aatrox et ses frères étaient honoré...</td>\n",
       "      <td>Qu'on la prenne pour un dieu ou pour un démon,...</td>\n",
       "      <td>Les ténèbres. Le souffle que je ne peux pas pr...</td>\n",
       "    </tr>\n",
       "    <tr>\n",
       "      <th>1</th>\n",
       "      <td>AHRI</td>\n",
       "      <td>IONIA</td>\n",
       "      <td>Connectée à la magie du royaume spirituel, Ahr...</td>\n",
       "      <td>Pendant le plus clair de sa vie, Ahri n'a rien...</td>\n",
       "      <td>Le marché embaumait l'encens et les légumes po...</td>\n",
       "    </tr>\n",
       "    <tr>\n",
       "      <th>2</th>\n",
       "      <td>AKALI</td>\n",
       "      <td>IONIA</td>\n",
       "      <td>Ayant abandonné l'Ordre Kinkou et le titre de ...</td>\n",
       "      <td>Ionia a toujours été une terre de magie sauvag...</td>\n",
       "      <td>« Aïe… Hé ! Bo'lii ! Tu n'y vas pas de main mo...</td>\n",
       "    </tr>\n",
       "    <tr>\n",
       "      <th>3</th>\n",
       "      <td>AKSHAN</td>\n",
       "      <td>SHURIMA</td>\n",
       "      <td>Se jouant du danger, Akshan combat le mal sans...</td>\n",
       "      <td>Agissant dans l'ombre, un preux justicier traq...</td>\n",
       "      <td>Shadya n'était morte que depuis quelques semai...</td>\n",
       "    </tr>\n",
       "    <tr>\n",
       "      <th>4</th>\n",
       "      <td>ALISTAR</td>\n",
       "      <td>RUNETERRA</td>\n",
       "      <td>Alistar est un guerrier redoutable cherchant à...</td>\n",
       "      <td>Bien des civilisations ont résisté à Noxus, ma...</td>\n",
       "      <td>L'éditeur Riot Games n'a pas encore fourni l'h...</td>\n",
       "    </tr>\n",
       "    <tr>\n",
       "      <th>...</th>\n",
       "      <td>...</td>\n",
       "      <td>...</td>\n",
       "      <td>...</td>\n",
       "      <td>...</td>\n",
       "      <td>...</td>\n",
       "    </tr>\n",
       "    <tr>\n",
       "      <th>166</th>\n",
       "      <td>ZERI</td>\n",
       "      <td>ZAUN</td>\n",
       "      <td>Zeri est une jeune femme vive et téméraire ori...</td>\n",
       "      <td>Originaire d'une famille ouvrière, Zeri a gran...</td>\n",
       "      <td>« Je ne peux pas accepter », déclara le commer...</td>\n",
       "    </tr>\n",
       "    <tr>\n",
       "      <th>167</th>\n",
       "      <td>ZIGGS</td>\n",
       "      <td>ZAUN</td>\n",
       "      <td>Amoureux des grosses bombes et des mèches cour...</td>\n",
       "      <td>Ziggs naquit avec un talent certain pour le br...</td>\n",
       "      <td>Très cher Zaun. Je suis là, je suis pelucheux ...</td>\n",
       "    </tr>\n",
       "    <tr>\n",
       "      <th>168</th>\n",
       "      <td>ZILEAN</td>\n",
       "      <td>RUNETERRA</td>\n",
       "      <td>Autrefois membre du conseil d'Icathia, Zilean ...</td>\n",
       "      <td>Icathia n'a pas toujours été la plus désolée d...</td>\n",
       "      <td>L'éditeur Riot Games n'a pas encore fourni l'h...</td>\n",
       "    </tr>\n",
       "    <tr>\n",
       "      <th>169</th>\n",
       "      <td>ZOÉ</td>\n",
       "      <td>TARGON</td>\n",
       "      <td>Incarnation de l'espièglerie, de l'imagination...</td>\n",
       "      <td>Conformément à la nature de la Manifestation t...</td>\n",
       "      <td>Dès qu'elle pensa à la boutique de gâteaux, Zo...</td>\n",
       "    </tr>\n",
       "    <tr>\n",
       "      <th>170</th>\n",
       "      <td>ZYRA</td>\n",
       "      <td>IXTAL</td>\n",
       "      <td>Née au cours d'une ancienne catastrophe magiqu...</td>\n",
       "      <td>Zyra a une très longue mémoire, aussi ancienne...</td>\n",
       "      <td>L'humidité et l'odeur écœurante du marché de T...</td>\n",
       "    </tr>\n",
       "  </tbody>\n",
       "</table>\n",
       "<p>171 rows × 5 columns</p>\n",
       "</div>"
      ],
      "text/plain": [
       "        Name     Region                                              SumUp  \\\n",
       "0     AATROX  RUNETERRA  Autrefois, Aatrox et ses frères étaient honoré...   \n",
       "1       AHRI      IONIA  Connectée à la magie du royaume spirituel, Ahr...   \n",
       "2      AKALI      IONIA  Ayant abandonné l'Ordre Kinkou et le titre de ...   \n",
       "3     AKSHAN    SHURIMA  Se jouant du danger, Akshan combat le mal sans...   \n",
       "4    ALISTAR  RUNETERRA  Alistar est un guerrier redoutable cherchant à...   \n",
       "..       ...        ...                                                ...   \n",
       "166     ZERI       ZAUN  Zeri est une jeune femme vive et téméraire ori...   \n",
       "167    ZIGGS       ZAUN  Amoureux des grosses bombes et des mèches cour...   \n",
       "168   ZILEAN  RUNETERRA  Autrefois membre du conseil d'Icathia, Zilean ...   \n",
       "169      ZOÉ     TARGON  Incarnation de l'espièglerie, de l'imagination...   \n",
       "170     ZYRA      IXTAL  Née au cours d'une ancienne catastrophe magiqu...   \n",
       "\n",
       "                                             Biography  \\\n",
       "0    Qu'on la prenne pour un dieu ou pour un démon,...   \n",
       "1    Pendant le plus clair de sa vie, Ahri n'a rien...   \n",
       "2    Ionia a toujours été une terre de magie sauvag...   \n",
       "3    Agissant dans l'ombre, un preux justicier traq...   \n",
       "4    Bien des civilisations ont résisté à Noxus, ma...   \n",
       "..                                                 ...   \n",
       "166  Originaire d'une famille ouvrière, Zeri a gran...   \n",
       "167  Ziggs naquit avec un talent certain pour le br...   \n",
       "168  Icathia n'a pas toujours été la plus désolée d...   \n",
       "169  Conformément à la nature de la Manifestation t...   \n",
       "170  Zyra a une très longue mémoire, aussi ancienne...   \n",
       "\n",
       "                                                 Story  \n",
       "0    Les ténèbres. Le souffle que je ne peux pas pr...  \n",
       "1    Le marché embaumait l'encens et les légumes po...  \n",
       "2    « Aïe… Hé ! Bo'lii ! Tu n'y vas pas de main mo...  \n",
       "3    Shadya n'était morte que depuis quelques semai...  \n",
       "4    L'éditeur Riot Games n'a pas encore fourni l'h...  \n",
       "..                                                 ...  \n",
       "166  « Je ne peux pas accepter », déclara le commer...  \n",
       "167  Très cher Zaun. Je suis là, je suis pelucheux ...  \n",
       "168  L'éditeur Riot Games n'a pas encore fourni l'h...  \n",
       "169  Dès qu'elle pensa à la boutique de gâteaux, Zo...  \n",
       "170  L'humidité et l'odeur écœurante du marché de T...  \n",
       "\n",
       "[171 rows x 5 columns]"
      ]
     },
     "execution_count": 3,
     "metadata": {},
     "output_type": "execute_result"
    }
   ],
   "source": [
    "##searching if their is missing data in the csv\n",
    "##missing 31 stories because riot still doesn't wrote it \n",
    "df = pd.read_csv(\"../data/raw/lore.csv\")\n",
    "print(df.isnull().sum())\n",
    "null_data = df[df.isnull().any(axis=1)]\n",
    "df.fillna(\"L'éditeur Riot Games n'a pas encore fourni l'histoire de ce champion\", inplace = True)\n",
    "df\n",
    "#null_data"
   ]
  },
  {
   "cell_type": "code",
   "execution_count": 4,
   "id": "9cc9595a",
   "metadata": {},
   "outputs": [
    {
     "data": {
      "text/plain": [
       "{'id': None,\n",
       " 'metadata': {'Source': 'Biography',\n",
       "  'Name': 'AATROX',\n",
       "  'Region': 'RUNETERRA',\n",
       "  'Sum_up': \"Autrefois, Aatrox et ses frères étaient honorés pour avoir défendu Shurima contre le Néant. Mais ils finirent par devenir une menace plus grande encore pour Runeterra : la ruse et la sorcellerie furent employées pour les battre. Cependant, après des siècles d'emprisonnement, Aatrox fut le premier à retrouver sa liberté, en corrompant et transformant les mortels assez stupides pour tenter de s'emparer de l'arme magique qui contenait son essence. Désormais en possession d'un corps qu'il a approximativement transformé pour rappeler son ancienne forme, il arpente Runeterra en cherchant à assouvir sa vengeance apocalyptique.\"},\n",
       " 'page_content': \"Shurima fut conduit devant le Disque solaire pour devenir l'avatar d'une entité céleste aujourd'hui oubliée. Transfiguré, il obtint des ailes dorées comme la lumière de l'aube. Son armure étincelait comme une constellation d'espoir d'au-delà du grand voile. Aatrox était son nom. Il était à\",\n",
       " 'type': 'Document'}"
      ]
     },
     "execution_count": 4,
     "metadata": {},
     "output_type": "execute_result"
    }
   ],
   "source": [
    "from langchain_text_splitters import RecursiveCharacterTextSplitter\n",
    "\n",
    "text_splitter = RecursiveCharacterTextSplitter(\n",
    "    chunk_size=300,\n",
    "    chunk_overlap=30,\n",
    "    length_function=len,\n",
    "    is_separator_regex=False,\n",
    ")\n",
    "\n",
    "liste_chunk = []\n",
    "\n",
    "for index, row in df.iterrows():\n",
    "    text_biography = row['Biography']\n",
    "    text_story = row['Story']\n",
    "    texts_bio = text_splitter.create_documents([text_biography],[{\"Source\": \"Biography\", \"Name\": row['Name'], \"Region\": row['Region'], \"Sum_up\": row['SumUp']}])\n",
    "    text_story = text_splitter.create_documents([text_story], [{\"Source\": \"Story\", \"Name\": row['Name'], \"Region\": row['Region'], \"Sum_up\": row['SumUp']}])\n",
    "    liste_chunk.extend(texts_bio)\n",
    "    liste_chunk.extend(text_story)\n",
    "\n",
    "\n",
    "liste_chunk[1].__dict__\n"
   ]
  },
  {
   "cell_type": "code",
   "execution_count": 59,
   "id": "268abad9",
   "metadata": {},
   "outputs": [],
   "source": [
    "df = pd.read_csv(\"../data/processed/lore_chunked.csv\", sep=\"\\t\")"
   ]
  },
  {
   "cell_type": "code",
   "execution_count": 71,
   "id": "578bce77",
   "metadata": {},
   "outputs": [
    {
     "name": "stdout",
     "output_type": "stream",
     "text": [
      "Nombre total de vecteurs : 7792\n"
     ]
    }
   ],
   "source": [
    "vectorstore = FAISS.load_local(\"../data/vectorstores/faiss_index\", embedding_model, allow_dangerous_deserialization=True)\n",
    "print(\"Nombre total de vecteurs :\", vectorstore.index.ntotal)"
   ]
  },
  {
   "cell_type": "markdown",
   "id": "c4a3ddfd",
   "metadata": {},
   "source": [
    "We split the user_query and use rapid fuzz token ratio to filter on the champion"
   ]
  },
  {
   "cell_type": "code",
   "execution_count": 72,
   "id": "c3b68fdf",
   "metadata": {},
   "outputs": [
    {
     "data": {
      "text/plain": [
       "'AATROX'"
      ]
     },
     "execution_count": 72,
     "metadata": {},
     "output_type": "execute_result"
    }
   ],
   "source": [
    "from rapidfuzz import process, fuzz\n",
    "\n",
    "user_query = \"C'est quoi l'histoire de atrox\"  \n",
    "splitted_input = user_query.split()\n",
    "all_names = df[\"Name\"].unique()\n",
    "\n",
    "for element in splitted_input:\n",
    "    best_match_name, score, _ = process.extractOne(element.upper(), all_names, scorer=fuzz.token_ratio)\n",
    "    if score > 90:\n",
    "        champion_detected = best_match_name\n",
    "\n",
    "champion_detected\n"
   ]
  },
  {
   "cell_type": "code",
   "execution_count": 73,
   "id": "d75d3730",
   "metadata": {},
   "outputs": [],
   "source": [
    "chunks_for_champion = df[df[\"Name\"] == champion_detected]\n",
    "\n",
    "# Créer un vectorstore temporaire pour ce champion\n",
    "vectorstore_filtered = FAISS.from_documents(\n",
    "    [Document(page_content=row[\"page_content\"], metadata=row.to_dict())\n",
    "     for _, row in chunks_for_champion.iterrows()],\n",
    "    embedding_model\n",
    ")\n"
   ]
  },
  {
   "cell_type": "code",
   "execution_count": 74,
   "id": "673b72d1",
   "metadata": {},
   "outputs": [
    {
     "name": "stdout",
     "output_type": "stream",
     "text": [
      "10\n",
      "porteur d'épée. D'un meilleur réceptacle. Autour de moi, il n'y a que des morts et des agonisants. J'entends leurs âmes se retirer de ce monde. Le combat n'a pas pris fin. Il continue dans l'enceinte \n",
      "déchus soient aussi dangereux pour la survie de Runeterra que les incursions du Néant, les Targoniens intervinrent. On prétend que la Manifestation du crépuscule donna aux mortels la connaissance néce\n",
      "Qu'on la prenne pour un dieu ou pour un démon, l'Épée des Darkin a fait l'objet de nombreux contes... mais peu connaissent son nom véritable ou l'histoire de sa chute. Aux temps les plus reculés, avan\n",
      "mes hôtes. Les ténèbres. Il pleuvait pendant la bataille. Et si la boue me recouvre ? Si je suis enfoui pendant des milliers d'années ? Enfermé dans cette prison ? L'horreur de cette perspective nourr\n",
      "et la haine grandirent dans son cœur. Les puissances célestes qu'Aatrox avait autrefois incarnées avaient été balayées de ce monde et du souvenir des hommes. Furieux contre cette injustice, Aatrox eut\n",
      "un naufragé qui cherche à regagner la surface en grimpant sur les autres marins. « Que se passe-t-il ?! » hurle le mortel. Mais les ténèbres le réduisent au silence. Les ténèbres éternelles auxquelles\n",
      "toute vie devant lui. Après des années de combats désespérés, Aatrox et ses frères arrêtèrent enfin l'avancée du Néant et scellèrent les failles les plus larges d'où il se déversait. Mais les Transfig\n",
      "en l'espace d'un souffle. Il découvrit qu'au combat, il pouvait se repaître de ses victimes pour se rendre encore plus fort et plus imposant. Aatrox arpenta les plus vastes territoires, cherchant sans\n",
      "Transfigurés se retournèrent les uns contre les autres dans ce qui devint rapidement une guerre pour les ruines de leur propre monde. Les mortels qui fuyaient le conflit leur donnèrent un autre nom po\n",
      "Je supplie les ténèbres sans fin, mais ma requête humiliante ne reçoit que le silence pour réponse. Et soudain… Je sens la présence proche d'un mortel. Je n'ai pas d'yeux, pas d'oreilles, mais je sens\n"
     ]
    }
   ],
   "source": [
    "results = vectorstore_filtered.similarity_search(user_query, k=10)\n",
    "print(len(results))\n",
    "for r in results:\n",
    "    print(r.page_content[:200])  "
   ]
  },
  {
   "cell_type": "markdown",
   "id": "5aee6f3a",
   "metadata": {},
   "source": [
    "Concatenate all the result to build a context for the RAG"
   ]
  },
  {
   "cell_type": "code",
   "execution_count": 75,
   "id": "a89e5294",
   "metadata": {},
   "outputs": [],
   "source": [
    "retrieved_chunk = \"\\n\".join([r.page_content for r in results])"
   ]
  },
  {
   "cell_type": "code",
   "execution_count": 66,
   "id": "fbf3b2c6",
   "metadata": {},
   "outputs": [],
   "source": [
    "import os\n",
    "from mistralai import Mistral\n",
    "from dotenv import load_dotenv\n",
    "\n",
    "load_dotenv()\n",
    "api_key = os.environ.get(\"MISTRAL_API_KEY\")\n",
    "client = Mistral(api_key=api_key)"
   ]
  },
  {
   "cell_type": "code",
   "execution_count": null,
   "id": "94ac55fb",
   "metadata": {},
   "outputs": [
    {
     "data": {
      "text/plain": [
       "\"\\nLe contexte de la question est en dessous.\\n---------------------\\nporteur d'épée. D'un meilleur réceptacle. Autour de moi, il n'y a que des morts et des agonisants. J'entends leurs âmes se retirer de ce monde. Le combat n'a pas pris fin. Il continue dans l'enceinte de la ville. J'oblige ma nouvelle forme à ramper vers le plus fort de la bataille. Vers un meilleur\\ndéchus soient aussi dangereux pour la survie de Runeterra que les incursions du Néant, les Targoniens intervinrent. On prétend que la Manifestation du crépuscule donna aux mortels la connaissance nécessaire pour piéger les Darkin, et que la Manifestation de la guerre, qui venait de renaître, unifia\\nQu'on la prenne pour un dieu ou pour un démon, l'Épée des Darkin a fait l'objet de nombreux contes... mais peu connaissent son nom véritable ou l'histoire de sa chute. Aux temps les plus reculés, avant que les sables du désert n'avalent l'empire, un puissant champion de Shurima fut conduit devant le\\nmes hôtes. Les ténèbres. Il pleuvait pendant la bataille. Et si la boue me recouvre ? Si je suis enfoui pendant des milliers d'années ? Enfermé dans cette prison ? L'horreur de cette perspective nourrit ma panique. Le combat va prendre fin. Je le sens. Je dois prendre une forme immédiatement. Je\\net la haine grandirent dans son cœur. Les puissances célestes qu'Aatrox avait autrefois incarnées avaient été balayées de ce monde et du souvenir des hommes. Furieux contre cette injustice, Aatrox eut une idée qui ne pouvait naître que du désespoir d'un prisonnier. S'il ne pouvait pas détruire\\nun naufragé qui cherche à regagner la surface en grimpant sur les autres marins. « Que se passe-t-il ?! » hurle le mortel. Mais les ténèbres le réduisent au silence. Les ténèbres éternelles auxquelles je viens juste d'échapper. Et j'ai des yeux. Je peux voir la pluie qui tombe. La boue. Le sang de\\ntoute vie devant lui. Après des années de combats désespérés, Aatrox et ses frères arrêtèrent enfin l'avancée du Néant et scellèrent les failles les plus larges d'où il se déversait. Mais les Transfigurés survivants, autoproclamés Fils du soleil, furent tous changés par ce qu'ils avaient affronté.\\nen l'espace d'un souffle. Il découvrit qu'au combat, il pouvait se repaître de ses victimes pour se rendre encore plus fort et plus imposant. Aatrox arpenta les plus vastes territoires, cherchant sans fin, désespérément, une façon de retrouver son ancienne forme de Transfiguré… Mais l'énigme de\\nTransfigurés se retournèrent les uns contre les autres dans ce qui devint rapidement une guerre pour les ruines de leur propre monde. Les mortels qui fuyaient le conflit leur donnèrent un autre nom pour marquer leur mépris :les Darkin. Craignant que ces Transfigurés déchus soient aussi dangereux\\nJe supplie les ténèbres sans fin, mais ma requête humiliante ne reçoit que le silence pour réponse. Et soudain… Je sens la présence proche d'un mortel. Je n'ai pas d'yeux, pas d'oreilles, mais je sens son approche. Il fuit mes adversaires. Il essaie sans doute de sauver sa vie. Il faut qu'il me\\n---------------------\\nTu es un expert geek et connais tout l'histoire du jeu League of Legends. En t'appuyant sur le contexte la question et de la question posée, peux tu répondres de façon claire et concise.\\nQuery: C'est quoi l'histoire de atrox\\nAnswer:\\n\""
      ]
     },
     "execution_count": 58,
     "metadata": {},
     "output_type": "execute_result"
    }
   ],
   "source": [
    "prompt = f\"\"\"\n",
    "Le contexte de la question est en dessous.\n",
    "---------------------\n",
    "{retrieved_chunk}\n",
    "---------------------\n",
    "Tu es un expert geek et connais tout l'histoire du jeu League of Legends. En t'appuyant sur le contexte la question et de la question posée, peux tu répondres de façon claire et concise.\n",
    "Query: {user_query}\n",
    "Answer:\n",
    "\"\"\""
   ]
  },
  {
   "cell_type": "code",
   "execution_count": null,
   "id": "debb5c6a",
   "metadata": {},
   "outputs": [],
   "source": [
    "def run_mistral(user_message, model=\"mistral-large-latest\"):\n",
    "    messages = [\n",
    "        {\n",
    "            \"role\": \"user\", \"content\": user_message\n",
    "        }\n",
    "    ]\n",
    "    chat_response = client.chat.complete(\n",
    "        model=model,\n",
    "        messages=messages\n",
    "    )\n",
    "    return (chat_response.choices[0].message.content)\n",
    "\n",
    "run_mistral(prompt)"
   ]
  }
 ],
 "metadata": {
  "kernelspec": {
   "display_name": "ragggg",
   "language": "python",
   "name": "python3"
  },
  "language_info": {
   "codemirror_mode": {
    "name": "ipython",
    "version": 3
   },
   "file_extension": ".py",
   "mimetype": "text/x-python",
   "name": "python",
   "nbconvert_exporter": "python",
   "pygments_lexer": "ipython3",
   "version": "3.12.0"
  }
 },
 "nbformat": 4,
 "nbformat_minor": 5
}
